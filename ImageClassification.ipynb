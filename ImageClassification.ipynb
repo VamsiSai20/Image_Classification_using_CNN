{
  "cells": [
    {
      "cell_type": "code",
      "execution_count": 1,
      "metadata": {
        "id": "VAeF9LkChlDE"
      },
      "outputs": [],
      "source": [
        "import tensorflow as tf\n",
        "from tensorflow.keras import datasets, layers, models\n",
        "import matplotlib.pyplot as plt\n",
        "import numpy as np"
      ]
    },
    {
      "cell_type": "code",
      "execution_count": 2,
      "metadata": {
        "colab": {
          "base_uri": "https://localhost:8080/"
        },
        "id": "bioY_ze2hvuv",
        "outputId": "4c847cbf-f48a-4125-a1ba-e1fa7794d5fc"
      },
      "outputs": [
        {
          "output_type": "stream",
          "name": "stdout",
          "text": [
            "Downloading data from https://www.cs.toronto.edu/~kriz/cifar-10-python.tar.gz\n",
            "170498071/170498071 [==============================] - 4s 0us/step\n"
          ]
        },
        {
          "output_type": "execute_result",
          "data": {
            "text/plain": [
              "(50000, 32, 32, 3)"
            ]
          },
          "metadata": {},
          "execution_count": 2
        }
      ],
      "source": [
        "(X_train, y_train), (X_test,y_test) = datasets.cifar10.load_data()\n",
        "X_train.shape"
      ]
    },
    {
      "cell_type": "code",
      "execution_count": 3,
      "metadata": {
        "colab": {
          "base_uri": "https://localhost:8080/"
        },
        "id": "JIUFEdkTh6ap",
        "outputId": "0266fa89-5c55-4234-a1ab-c5411bea7b7f"
      },
      "outputs": [
        {
          "output_type": "execute_result",
          "data": {
            "text/plain": [
              "(10000, 32, 32, 3)"
            ]
          },
          "metadata": {},
          "execution_count": 3
        }
      ],
      "source": [
        "X_test.shape"
      ]
    },
    {
      "cell_type": "code",
      "execution_count": 4,
      "metadata": {
        "colab": {
          "base_uri": "https://localhost:8080/"
        },
        "id": "pcOwxC5ph8Fo",
        "outputId": "65d566ab-9691-4e8e-c6ac-8905afc834b5"
      },
      "outputs": [
        {
          "output_type": "execute_result",
          "data": {
            "text/plain": [
              "(50000, 1)"
            ]
          },
          "metadata": {},
          "execution_count": 4
        }
      ],
      "source": [
        "y_train.shape"
      ]
    },
    {
      "cell_type": "code",
      "execution_count": 5,
      "metadata": {
        "colab": {
          "base_uri": "https://localhost:8080/"
        },
        "id": "39Ii_MpviBnU",
        "outputId": "d52e6402-47c3-4844-a806-c07ff5cd2f9e"
      },
      "outputs": [
        {
          "output_type": "execute_result",
          "data": {
            "text/plain": [
              "array([[6],\n",
              "       [9],\n",
              "       [9],\n",
              "       [4],\n",
              "       [1]], dtype=uint8)"
            ]
          },
          "metadata": {},
          "execution_count": 5
        }
      ],
      "source": [
        "y_train[:5]"
      ]
    },
    {
      "cell_type": "code",
      "execution_count": 6,
      "metadata": {
        "colab": {
          "base_uri": "https://localhost:8080/"
        },
        "id": "71KPgZv9iG5h",
        "outputId": "91590267-58a6-4bab-cac0-22a320ee4d45"
      },
      "outputs": [
        {
          "output_type": "execute_result",
          "data": {
            "text/plain": [
              "array([6, 9, 9, 4, 1], dtype=uint8)"
            ]
          },
          "metadata": {},
          "execution_count": 6
        }
      ],
      "source": [
        "y_train = y_train.reshape(-1,)\n",
        "y_train[:5]"
      ]
    },
    {
      "cell_type": "code",
      "execution_count": 7,
      "metadata": {
        "id": "Lghz2-uziKi1"
      },
      "outputs": [],
      "source": [
        "y_test = y_test.reshape(-1,)"
      ]
    },
    {
      "cell_type": "code",
      "execution_count": 8,
      "metadata": {
        "id": "7zuu9ZuPiN1a"
      },
      "outputs": [],
      "source": [
        "classes = [\"airplane\",\"automobile\",\"bird\",\"cat\",\"deer\",\"dog\",\"frog\",\"horse\",\"ship\",\"truck\"]"
      ]
    },
    {
      "cell_type": "code",
      "execution_count": 9,
      "metadata": {
        "id": "P668jNh_iPp1"
      },
      "outputs": [],
      "source": [
        "def plot_sample(X, y, index):\n",
        "    plt.figure(figsize = (15,2))\n",
        "    plt.imshow(X[index])\n",
        "    plt.xlabel(classes[y[index]])"
      ]
    },
    {
      "cell_type": "code",
      "execution_count": 10,
      "metadata": {
        "colab": {
          "base_uri": "https://localhost:8080/",
          "height": 237
        },
        "id": "Eo9nhdFXiUgo",
        "outputId": "f6835953-51c9-49e9-a9cc-28ab89aa97a9"
      },
      "outputs": [
        {
          "output_type": "display_data",
          "data": {
            "text/plain": [
              "<Figure size 1500x200 with 1 Axes>"
            ],
            "image/png": "[encoded data removed]"
          },
          "metadata": {}
        }
      ],
      "source": [
        "plot_sample(X_train, y_train, 233)"
      ]
    },
    {
      "cell_type": "code",
      "execution_count": 11,
      "metadata": {
        "colab": {
          "base_uri": "https://localhost:8080/",
          "height": 237
        },
        "id": "bT1PrrvriYk9",
        "outputId": "07dbaec3-86d6-4ccf-e3ac-9c9364271bee"
      },
      "outputs": [
        {
          "output_type": "display_data",
          "data": {
            "text/plain": [
              "<Figure size 1500x200 with 1 Axes>"
            ],
            "image/png": "[encoded data removed]"
          },
          "metadata": {}
        }
      ],
      "source": [
        "plot_sample(X_train, y_train, 1)"
      ]
    },
    {
      "cell_type": "code",
      "execution_count": 12,
      "metadata": {
        "id": "GR5PFFuMibxQ"
      },
      "outputs": [],
      "source": [
        "X_train = X_train / 255.0\n",
        "X_test = X_test / 255.0"
      ]
    },
    {
      "cell_type": "code",
      "execution_count": 13,
      "metadata": {
        "colab": {
          "base_uri": "https://localhost:8080/"
        },
        "id": "Km5YBTK3if33",
        "outputId": "da923203-2e35-43f5-c811-89954e559dc6"
      },
      "outputs": [
        {
          "output_type": "stream",
          "name": "stdout",
          "text": [
            "Epoch 1/5\n",
            "1563/1563 [==============================] - 151s 96ms/step - loss: 1.8087 - accuracy: 0.3554\n",
            "Epoch 2/5\n",
            "1563/1563 [==============================] - 148s 95ms/step - loss: 1.6191 - accuracy: 0.4280\n",
            "Epoch 3/5\n",
            "1563/1563 [==============================] - 141s 90ms/step - loss: 1.5419 - accuracy: 0.4561\n",
            "Epoch 4/5\n",
            "1563/1563 [==============================] - 144s 92ms/step - loss: 1.4797 - accuracy: 0.4785\n",
            "Epoch 5/5\n",
            "1563/1563 [==============================] - 153s 98ms/step - loss: 1.4292 - accuracy: 0.4981\n"
          ]
        },
        {
          "output_type": "execute_result",
          "data": {
            "text/plain": [
              "<keras.callbacks.History at 0x7f667f3ca110>"
            ]
          },
          "metadata": {},
          "execution_count": 13
        }
      ],
      "source": [
        "ann = models.Sequential([\n",
        "        layers.Flatten(input_shape=(32,32,3)),\n",
        "        layers.Dense(3000, activation='relu'),\n",
        "        layers.Dense(1000, activation='relu'),\n",
        "        layers.Dense(10, activation='softmax')    \n",
        "    ])\n",
        "\n",
        "ann.compile(optimizer='SGD',\n",
        "              loss='sparse_categorical_crossentropy',\n",
        "              metrics=['accuracy'])\n",
        "\n",
        "ann.fit(X_train, y_train, epochs=5)"
      ]
    },
    {
      "cell_type": "code",
      "execution_count": 14,
      "metadata": {
        "colab": {
          "base_uri": "https://localhost:8080/"
        },
        "id": "RTrqjSqRkOWH",
        "outputId": "05728926-1b3d-43e5-ba94-2573a9e39a03"
      },
      "outputs": [
        {
          "output_type": "stream",
          "name": "stdout",
          "text": [
            "313/313 [==============================] - 10s 32ms/step\n",
            "Classification Report: \n",
            "               precision    recall  f1-score   support\n",
            "\n",
            "           0       0.54      0.62      0.57      1000\n",
            "           1       0.55      0.68      0.61      1000\n",
            "           2       0.33      0.37      0.35      1000\n",
            "           3       0.40      0.24      0.30      1000\n",
            "           4       0.45      0.28      0.35      1000\n",
            "           5       0.54      0.19      0.28      1000\n",
            "           6       0.31      0.85      0.46      1000\n",
            "           7       0.70      0.38      0.49      1000\n",
            "           8       0.69      0.52      0.60      1000\n",
            "           9       0.56      0.49      0.52      1000\n",
            "\n",
            "    accuracy                           0.46     10000\n",
            "   macro avg       0.51      0.46      0.45     10000\n",
            "weighted avg       0.51      0.46      0.45     10000\n",
            "\n"
          ]
        }
      ],
      "source": [
        "from sklearn.metrics import confusion_matrix , classification_report\n",
        "import numpy as np\n",
        "y_pred = ann.predict(X_test)\n",
        "y_pred_classes = [np.argmax(element) for element in y_pred]\n",
        "\n",
        "print(\"Classification Report: \\n\", classification_report(y_test, y_pred_classes))"
      ]
    },
    {
      "cell_type": "code",
      "execution_count": 15,
      "metadata": {
        "id": "KEY1ZQw2kUut"
      },
      "outputs": [],
      "source": [
        "cnn = models.Sequential([\n",
        "    layers.Conv2D(filters=32, kernel_size=(3, 3), activation='relu', input_shape=(32, 32, 3)),\n",
        "    layers.MaxPooling2D((2, 2)),\n",
        "    \n",
        "    layers.Conv2D(filters=64, kernel_size=(3, 3), activation='relu'),\n",
        "    layers.MaxPooling2D((2, 2)),\n",
        "    \n",
        "    layers.Flatten(),\n",
        "    layers.Dense(64, activation='relu'),\n",
        "    layers.Dense(10, activation='softmax')\n",
        "])"
      ]
    },
    {
      "cell_type": "code",
      "execution_count": 16,
      "metadata": {
        "id": "kbhlhtyykY8-"
      },
      "outputs": [],
      "source": [
        "cnn.compile(optimizer='adam',\n",
        "              loss='sparse_categorical_crossentropy',\n",
        "              metrics=['accuracy'])\n"
      ]
    },
    {
      "cell_type": "code",
      "execution_count": 17,
      "metadata": {
        "colab": {
          "base_uri": "https://localhost:8080/"
        },
        "id": "C979zS2Pkbkf",
        "outputId": "73decf44-4f94-49a7-e3fc-cec01269946b"
      },
      "outputs": [
        {
          "output_type": "stream",
          "name": "stdout",
          "text": [
            "Epoch 1/10\n",
            "1563/1563 [==============================] - 73s 46ms/step - loss: 1.4697 - accuracy: 0.4682\n",
            "Epoch 2/10\n",
            "1563/1563 [==============================] - 71s 45ms/step - loss: 1.1154 - accuracy: 0.6069\n",
            "Epoch 3/10\n",
            "1563/1563 [==============================] - 69s 44ms/step - loss: 0.9855 - accuracy: 0.6557\n",
            "Epoch 4/10\n",
            "1563/1563 [==============================] - 68s 44ms/step - loss: 0.9035 - accuracy: 0.6863\n",
            "Epoch 5/10\n",
            "1563/1563 [==============================] - 70s 45ms/step - loss: 0.8303 - accuracy: 0.7126\n",
            "Epoch 6/10\n",
            "1563/1563 [==============================] - 69s 44ms/step - loss: 0.7790 - accuracy: 0.7291\n",
            "Epoch 7/10\n",
            "1563/1563 [==============================] - 70s 45ms/step - loss: 0.7285 - accuracy: 0.7468\n",
            "Epoch 8/10\n",
            "1563/1563 [==============================] - 70s 45ms/step - loss: 0.6891 - accuracy: 0.7598\n",
            "Epoch 9/10\n",
            "1563/1563 [==============================] - 69s 44ms/step - loss: 0.6462 - accuracy: 0.7740\n",
            "Epoch 10/10\n",
            "1563/1563 [==============================] - 68s 44ms/step - loss: 0.6148 - accuracy: 0.7856\n"
          ]
        },
        {
          "output_type": "execute_result",
          "data": {
            "text/plain": [
              "<keras.callbacks.History at 0x7f667d4c8c70>"
            ]
          },
          "metadata": {},
          "execution_count": 17
        }
      ],
      "source": [
        "cnn.fit(X_train, y_train, epochs=10)"
      ]
    },
    {
      "cell_type": "code",
      "execution_count": 18,
      "metadata": {
        "colab": {
          "base_uri": "https://localhost:8080/"
        },
        "id": "HcTvOodFJhQj",
        "outputId": "ec972dfa-5fd2-411e-f4b6-31c737b77ead"
      },
      "outputs": [
        {
          "output_type": "stream",
          "name": "stdout",
          "text": [
            "313/313 [==============================] - 4s 12ms/step\n",
            "Classification Report: \n",
            "               precision    recall  f1-score   support\n",
            "\n",
            "           0       0.71      0.71      0.71      1000\n",
            "           1       0.79      0.84      0.81      1000\n",
            "           2       0.52      0.64      0.57      1000\n",
            "           3       0.58      0.39      0.47      1000\n",
            "           4       0.65      0.58      0.61      1000\n",
            "           5       0.69      0.51      0.59      1000\n",
            "           6       0.66      0.84      0.74      1000\n",
            "           7       0.76      0.72      0.74      1000\n",
            "           8       0.72      0.87      0.79      1000\n",
            "           9       0.78      0.76      0.77      1000\n",
            "\n",
            "    accuracy                           0.69     10000\n",
            "   macro avg       0.69      0.69      0.68     10000\n",
            "weighted avg       0.69      0.69      0.68     10000\n",
            "\n"
          ]
        }
      ],
      "source": [
        "from sklearn.metrics import confusion_matrix , classification_report\n",
        "import numpy as np\n",
        "y_pred = cnn.predict(X_test)\n",
        "y_pred_classes = [np.argmax(element) for element in y_pred]\n",
        "\n",
        "print(\"Classification Report: \\n\", classification_report(y_test, y_pred_classes))"
      ]
    },
    {
      "cell_type": "code",
      "execution_count": 19,
      "metadata": {
        "colab": {
          "base_uri": "https://localhost:8080/"
        },
        "id": "uvvH_GlbkhAI",
        "outputId": "6392ed85-e3e4-4473-b7d5-203881136e74"
      },
      "outputs": [
        {
          "output_type": "stream",
          "name": "stdout",
          "text": [
            "313/313 [==============================] - 4s 12ms/step - loss: 0.9402 - accuracy: 0.6863\n"
          ]
        },
        {
          "output_type": "execute_result",
          "data": {
            "text/plain": [
              "[0.9402127861976624, 0.6862999796867371]"
            ]
          },
          "metadata": {},
          "execution_count": 19
        }
      ],
      "source": [
        "cnn.evaluate(X_test,y_test)"
      ]
    },
    {
      "cell_type": "code",
      "execution_count": 20,
      "metadata": {
        "colab": {
          "base_uri": "https://localhost:8080/"
        },
        "id": "sNkB-85YoA3v",
        "outputId": "cfe4d4bf-04f0-4759-95ef-e7d1a72f82b2"
      },
      "outputs": [
        {
          "output_type": "stream",
          "name": "stdout",
          "text": [
            "313/313 [==============================] - 4s 11ms/step\n"
          ]
        },
        {
          "output_type": "execute_result",
          "data": {
            "text/plain": [
              "array([[1.7083006e-02, 1.4214685e-04, 9.8732105e-03, 7.1528023e-01,\n",
              "        3.6083374e-04, 1.8837469e-02, 6.7329830e-03, 4.7073487e-04,\n",
              "        2.2125442e-01, 9.9649634e-03],\n",
              "       [5.6637065e-03, 2.0564668e-02, 4.4995559e-06, 1.0398073e-05,\n",
              "        3.0730647e-09, 3.2590311e-08, 1.5883460e-08, 8.7006534e-11,\n",
              "        9.7374821e-01, 8.4990761e-06],\n",
              "       [3.9775446e-02, 2.2245045e-01, 1.1986220e-03, 1.6113745e-02,\n",
              "        6.8112719e-04, 1.2922386e-03, 7.1560405e-04, 1.0968823e-03,\n",
              "        6.9168949e-01, 2.4986373e-02],\n",
              "       [5.6002921e-01, 1.6839828e-02, 5.0140428e-04, 1.8727552e-04,\n",
              "        1.5869944e-05, 5.2013604e-07, 5.1423471e-05, 1.9519050e-06,\n",
              "        4.2161739e-01, 7.5505552e-04],\n",
              "       [2.3668633e-06, 5.7022726e-06, 4.5023058e-03, 7.2993413e-02,\n",
              "        9.0444647e-02, 2.7031554e-03, 8.2932031e-01, 1.6457830e-05,\n",
              "        1.0951418e-05, 7.4314755e-07]], dtype=float32)"
            ]
          },
          "metadata": {},
          "execution_count": 20
        }
      ],
      "source": [
        "y_pred = cnn.predict(X_test)\n",
        "y_pred[:5]"
      ]
    },
    {
      "cell_type": "code",
      "execution_count": 21,
      "metadata": {
        "colab": {
          "base_uri": "https://localhost:8080/"
        },
        "id": "YtZytncIoEfH",
        "outputId": "32301d30-14a9-47f0-d979-737978feddea"
      },
      "outputs": [
        {
          "output_type": "execute_result",
          "data": {
            "text/plain": [
              "[3, 8, 8, 0, 6]"
            ]
          },
          "metadata": {},
          "execution_count": 21
        }
      ],
      "source": [
        "y_classes = [np.argmax(element) for element in y_pred]\n",
        "y_classes[:5]"
      ]
    },
    {
      "cell_type": "code",
      "execution_count": 22,
      "metadata": {
        "colab": {
          "base_uri": "https://localhost:8080/"
        },
        "id": "AeyeMtJkoKbO",
        "outputId": "be210e50-8ccc-4168-e58d-6dabdc451230"
      },
      "outputs": [
        {
          "output_type": "execute_result",
          "data": {
            "text/plain": [
              "array([3, 8, 8, 0, 6], dtype=uint8)"
            ]
          },
          "metadata": {},
          "execution_count": 22
        }
      ],
      "source": [
        "y_test[:5]"
      ]
    },
    {
      "cell_type": "code",
      "execution_count": 26,
      "metadata": {
        "colab": {
          "base_uri": "https://localhost:8080/",
          "height": 255
        },
        "id": "E25s0Lb_oOM7",
        "outputId": "61e70698-9848-442d-ae81-a90e29f4955c"
      },
      "outputs": [
        {
          "output_type": "execute_result",
          "data": {
            "text/plain": [
              "'horse'"
            ],
            "application/vnd.google.colaboratory.intrinsic+json": {
              "type": "string"
            }
          },
          "metadata": {},
          "execution_count": 26
        },
        {
          "output_type": "display_data",
          "data": {
            "text/plain": [
              "<Figure size 1500x200 with 1 Axes>"
            ],
            "image/png": "[encoded data removed]"
          },
          "metadata": {}
        }
      ],
      "source": [
        "index=56\n",
        "plot_sample(X_test, y_test,index)\n",
        "\n",
        "\n",
        "classes[y_classes[index]]"
      ]
    },
    {
      "cell_type": "code",
      "source": [],
      "metadata": {
        "id": "I21hwHSMrFOn"
      },
      "execution_count": null,
      "outputs": []
    }
  ],
  "metadata": {
    "colab": {
      "provenance": []
    },
    "kernelspec": {
      "display_name": "Python 3",
      "name": "python3"
    },
    "language_info": {
      "name": "python"
    }
  },
  "nbformat": 4,
  "nbformat_minor": 0
}